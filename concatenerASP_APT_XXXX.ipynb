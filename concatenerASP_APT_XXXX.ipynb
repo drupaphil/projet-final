{
 "cells": [
  {
   "cell_type": "code",
   "execution_count": 1,
   "id": "2d57bf04-824e-4252-a30e-e563b6de5154",
   "metadata": {},
   "outputs": [
    {
     "name": "stdout",
     "output_type": "stream",
     "text": [
      "Fichier concaténé sauvegardé sous : ../DATA/ARCHIVES/ASP_APT_1990-2024-V2.csv\n"
     ]
    }
   ],
   "source": [
    "import pandas as pd\n",
    "import glob\n",
    "\n",
    "# Chemin vers le dossier contenant les fichiers CSV\n",
    "dossier_fichiers = \"../DATA/ARCHIVES/\"  # Remplacez par le chemin réel\n",
    "\n",
    "# Liste des fichiers CSV (ASP_APT_XXXX.csv où XXXX est l'année)\n",
    "fichiers_csv = glob.glob(f\"{dossier_fichiers}ASP_APT_[1-2][0-9][0-9][0-9].csv\")\n",
    "\n",
    "# Tri des fichiers par année (pour un ordre chronologique)\n",
    "fichiers_csv.sort()\n",
    "\n",
    "# Lecture et concaténation des fichiers\n",
    "df_concatene = pd.concat(\n",
    "    (pd.read_csv(f, sep=\";\", encoding=\"latin1\") for f in fichiers_csv),\n",
    "    ignore_index=True\n",
    ")\n",
    "\n",
    "# Sauvegarde du fichier final\n",
    "df_concatene.to_csv(f\"{dossier_fichiers}ASP_APT_1990-2024.csv\", index=False, sep=\";\", encoding=\"latin1\")\n",
    "\n",
    "print(f\"Fichier concaténé sauvegardé sous : {dossier_fichiers}ASP_APT_1990-2024.csv\")\n"
   ]
  }
 ],
 "metadata": {
  "kernelspec": {
   "display_name": "Python [conda env:base] *",
   "language": "python",
   "name": "conda-base-py"
  },
  "language_info": {
   "codemirror_mode": {
    "name": "ipython",
    "version": 3
   },
   "file_extension": ".py",
   "mimetype": "text/x-python",
   "name": "python",
   "nbconvert_exporter": "python",
   "pygments_lexer": "ipython3",
   "version": "3.13.5"
  }
 },
 "nbformat": 4,
 "nbformat_minor": 5
}
