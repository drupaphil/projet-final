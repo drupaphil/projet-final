{
 "cells": [
  {
   "cell_type": "code",
   "execution_count": 1,
   "id": "8ad799b1-abb8-4b6b-9035-f9012f8748ed",
   "metadata": {},
   "outputs": [
    {
     "name": "stdout",
     "output_type": "stream",
     "text": [
      "Le fichier combiné a été enregistré sous le nom : ../DATA/ASP_APT_1990-2025-AVEC-PREVISIONS.xlsx\n"
     ]
    }
   ],
   "source": [
    "import pandas as pd\n",
    "\n",
    "# Charger les deux fichiers Excel\n",
    "fichier1 = \"../DATA/ASP_APT_1990-2024-POUR-PREVISIONS.xlsx\"\n",
    "fichier2 = \"../DATA/predictions_passagers_2025.xlsx\"\n",
    "\n",
    "# Lire les données des deux fichiers\n",
    "df1 = pd.read_excel(fichier1)\n",
    "df2 = pd.read_excel(fichier2)\n",
    "\n",
    "# Concaténer les deux DataFrames\n",
    "df_combine = pd.concat([df1, df2], ignore_index=True)\n",
    "\n",
    "# Sauvegarder le résultat dans un nouveau fichier Excel\n",
    "fichier_sortie = \"../DATA/ASP_APT_1990-2025-AVEC-PREVISIONS.xlsx\"\n",
    "df_combine.to_excel(fichier_sortie, index=False, sheet_name=\"Données\")\n",
    "\n",
    "print(f\"Le fichier combiné a été enregistré sous le nom : {fichier_sortie}\")"
   ]
  }
 ],
 "metadata": {
  "kernelspec": {
   "display_name": "Python [conda env:base] *",
   "language": "python",
   "name": "conda-base-py"
  },
  "language_info": {
   "codemirror_mode": {
    "name": "ipython",
    "version": 3
   },
   "file_extension": ".py",
   "mimetype": "text/x-python",
   "name": "python",
   "nbconvert_exporter": "python",
   "pygments_lexer": "ipython3",
   "version": "3.13.5"
  }
 },
 "nbformat": 4,
 "nbformat_minor": 5
}
